{
 "cells": [
  {
   "cell_type": "markdown",
   "metadata": {},
   "source": [
    "Usually, the functions we create in python can only run with one CPU core. It is not very effecinet when your function need a long time to run or your dataset is very large. In python, the [multiprocessing](https://docs.python.org/3.4/library/multiprocessing.html?highlight=process) package provides a simple API for spliting work between multiple processes. "
   ]
  },
  {
   "cell_type": "markdown",
   "metadata": {},
   "source": [
    "## A simple example"
   ]
  },
  {
   "cell_type": "code",
   "execution_count": 8,
   "metadata": {},
   "outputs": [],
   "source": [
    "from multiprocessing import Pool"
   ]
  },
  {
   "cell_type": "code",
   "execution_count": 6,
   "metadata": {},
   "outputs": [],
   "source": [
    "def mapper(n_jobs):\n",
    "    '''\n",
    "    Function for parallel computing: \n",
    "    Original Implementation: https://github.com/molecularsets/moses/blob/master/moses/utils.py\n",
    "    \n",
    "    Returns function for map call.\n",
    "    If n_jobs == 1, will use standard map\n",
    "    If n_jobs > 1, will use multiprocessing pool\n",
    "    If n_jobs is a pool object, will return its map function\n",
    "    '''\n",
    "    if n_jobs == 1:\n",
    "        def _mapper(*args, **kwargs):\n",
    "            return list(map(*args, **kwargs))\n",
    "\n",
    "        return _mapper\n",
    "    elif isinstance(n_jobs, int):\n",
    "        pool = Pool(n_jobs)\n",
    "\n",
    "        def _mapper(*args, **kwargs):\n",
    "            try:\n",
    "                result = pool.map(*args, **kwargs)\n",
    "            finally:\n",
    "                pool.terminate()\n",
    "            return result\n",
    "\n",
    "        return _mapper\n",
    "    else:\n",
    "        return n_jobs.map"
   ]
  },
  {
   "cell_type": "code",
   "execution_count": 3,
   "metadata": {},
   "outputs": [],
   "source": [
    "numbers=[1,2,3,4,5]"
   ]
  },
  {
   "cell_type": "code",
   "execution_count": 2,
   "metadata": {},
   "outputs": [],
   "source": [
    "def f(x):\n",
    "    return x**2"
   ]
  },
  {
   "cell_type": "code",
   "execution_count": 4,
   "metadata": {},
   "outputs": [
    {
     "name": "stdout",
     "output_type": "stream",
     "text": [
      "1\n",
      "4\n",
      "9\n",
      "16\n",
      "25\n"
     ]
    }
   ],
   "source": [
    "for n in numbers:\n",
    "    print(f(n))"
   ]
  },
  {
   "cell_type": "code",
   "execution_count": null,
   "metadata": {},
   "outputs": [],
   "source": [
    "mapper(4)(f,numbers)"
   ]
  },
  {
   "cell_type": "code",
   "execution_count": null,
   "metadata": {},
   "outputs": [],
   "source": [
    "from multiprocessing import Pool\n",
    "\n",
    "def f(x):\n",
    "    return x*x\n",
    "\n",
    "p = Pool(2)\n",
    "print(p.map(f, [1, 2, 3]))"
   ]
  }
 ],
 "metadata": {
  "kernelspec": {
   "display_name": "Python 3",
   "language": "python",
   "name": "python3"
  },
  "language_info": {
   "codemirror_mode": {
    "name": "ipython",
    "version": 3
   },
   "file_extension": ".py",
   "mimetype": "text/x-python",
   "name": "python",
   "nbconvert_exporter": "python",
   "pygments_lexer": "ipython3",
   "version": "3.7.7"
  }
 },
 "nbformat": 4,
 "nbformat_minor": 4
}
