{
 "cells": [
  {
   "cell_type": "code",
   "execution_count": null,
   "metadata": {},
   "outputs": [],
   "source": []
  },
  {
   "cell_type": "markdown",
   "metadata": {},
   "source": [
    "## 1. Concepts\n",
    "\n",
    "### Bemis-Murcko Scaffold\n",
    "\n",
    "Structures sharing a scaffold can often be assumed to share a common synthetic pathway.\n",
    "\n",
    "1. The Scaffold Tree - Visualization of the Scaffold Universe by Hierarchical Scaffold Classification. [J. Chem. Inf. Model. 2007, 47, 47-58](https://pubs.acs.org/doi/10.1021/ci600338x)\n",
    "\n",
    "### Scaffold hopping\n",
    "\n",
    "### Scaffold Tree\n",
    "\n",
    "### Scaffold Network\n",
    "\n"
   ]
  }
 ],
 "metadata": {
  "kernelspec": {
   "display_name": "Python 3",
   "language": "python",
   "name": "python3"
  },
  "language_info": {
   "codemirror_mode": {
    "name": "ipython",
    "version": 3
   },
   "file_extension": ".py",
   "mimetype": "text/x-python",
   "name": "python",
   "nbconvert_exporter": "python",
   "pygments_lexer": "ipython3",
   "version": "3.7.7"
  }
 },
 "nbformat": 4,
 "nbformat_minor": 4
}
